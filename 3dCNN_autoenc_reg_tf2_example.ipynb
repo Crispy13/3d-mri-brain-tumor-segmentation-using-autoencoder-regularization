{
  "nbformat": 4,
  "nbformat_minor": 0,
  "metadata": {
    "kernelspec": {
      "display_name": "Python [conda env:ml]",
      "language": "python",
      "name": "conda-env-ml-py"
    },
    "language_info": {
      "codemirror_mode": {
        "name": "ipython",
        "version": 3
      },
      "file_extension": ".py",
      "mimetype": "text/x-python",
      "name": "python",
      "nbconvert_exporter": "python",
      "pygments_lexer": "ipython3",
      "version": "3.7.9"
    },
    "colab": {
      "name": "3dcnn_autoenc_reg_example_tf2.ipynb",
      "provenance": [],
      "collapsed_sections": []
    },
    "accelerator": "GPU"
  },
  "cells": [
    {
      "cell_type": "code",
      "metadata": {
        "id": "OHWZeo6DE1vM",
        "outputId": "23f365fe-84c8-45b3-ab6b-f4fbf7d6cb0f",
        "colab": {
          "base_uri": "https://localhost:8080/"
        }
      },
      "source": [
        "import tensorflow as tf\n",
        "gpus = tf.config.experimental.list_physical_devices('GPU')\n",
        "if gpus:\n",
        "    try:\n",
        "        # Currently, memory growth needs to be the same across GPUs\n",
        "        for gpu in gpus:\n",
        "            tf.config.experimental.set_memory_growth(gpu, True)\n",
        "        logical_gpus = tf.config.experimental.list_logical_devices('GPU')\n",
        "        print(len(gpus), \"Physical GPUs,\", len(logical_gpus), \"Logical GPUs\")\n",
        "    except RuntimeError as e:\n",
        "        # Memory growth must be set before GPUs have been initialized\n",
        "        print(e)"
      ],
      "execution_count": 1,
      "outputs": [
        {
          "output_type": "stream",
          "text": [
            "1 Physical GPUs, 1 Logical GPUs\n"
          ],
          "name": "stdout"
        }
      ]
    },
    {
      "cell_type": "code",
      "metadata": {
        "id": "RZJXYFspE1vS"
      },
      "source": [
        "from model_tf2 import *\n",
        "import numpy as np"
      ],
      "execution_count": 2,
      "outputs": []
    },
    {
      "cell_type": "code",
      "metadata": {
        "id": "tQR62PRnxkDv",
        "outputId": "a8295d3a-1d86-4cc5-c396-7687137bb8a3",
        "colab": {
          "base_uri": "https://localhost:8080/"
        }
      },
      "source": [
        "print(tf.__version__)"
      ],
      "execution_count": 3,
      "outputs": [
        {
          "output_type": "stream",
          "text": [
            "2.3.0\n"
          ],
          "name": "stdout"
        }
      ]
    },
    {
      "cell_type": "code",
      "metadata": {
        "id": "QiKijEkmE1vU"
      },
      "source": [
        "input_shape = (4, 80, 96, 64)\n",
        "output_channels = 3\n",
        "dummy_x = np.random.randn(10, *input_shape)\n",
        "dummy_y = np.random.randn(10, output_channels, *input_shape[1:])"
      ],
      "execution_count": 4,
      "outputs": []
    },
    {
      "cell_type": "code",
      "metadata": {
        "id": "TzeXYy0JE1vV"
      },
      "source": [
        "model = conv3d_autoenc_reg(input_shape, output_channels)"
      ],
      "execution_count": 5,
      "outputs": []
    },
    {
      "cell_type": "code",
      "metadata": {
        "id": "epATVY2XE1vX"
      },
      "source": [
        "opt = Adam(lr=1e-4, clipvalue=0.5)\n",
        "lg = DiceLoss()\n",
        "dc = dice_coefficient\n",
        "\n",
        "model.compile(\n",
        "    opt,\n",
        "    [lg],\n",
        "    metrics=[dc],\n",
        "    loss_weights = [1.],\n",
        "    run_eagerly = False\n",
        ")"
      ],
      "execution_count": 6,
      "outputs": []
    },
    {
      "cell_type": "code",
      "metadata": {
        "id": "jsURtXLUE1vZ",
        "outputId": "6c6b0a0b-fba4-48cd-cd71-efc330237304",
        "colab": {
          "base_uri": "https://localhost:8080/"
        }
      },
      "source": [
        "model.fit(dummy_x, dummy_y, batch_size = 2, epochs = 1, callbacks = [], validation_data = (dummy_x, dummy_y))"
      ],
      "execution_count": 7,
      "outputs": [
        {
          "output_type": "stream",
          "text": [
            "5/5 [==============================] - ETA: 0s - loss: -0.3698 - dice_coefficient: 0.7227WARNING:tensorflow:Callbacks method `on_test_batch_end` is slow compared to the batch time (batch time: 0.0255s vs `on_test_batch_end` time: 0.4028s). Check your callbacks.\n",
            "5/5 [==============================] - 11s 2s/step - loss: -0.3698 - dice_coefficient: 0.7227 - val_loss: -0.5557 - val_dice_coefficient: 0.7959\n"
          ],
          "name": "stdout"
        },
        {
          "output_type": "execute_result",
          "data": {
            "text/plain": [
              "<tensorflow.python.keras.callbacks.History at 0x7feb9be7f780>"
            ]
          },
          "metadata": {
            "tags": []
          },
          "execution_count": 7
        }
      ]
    },
    {
      "cell_type": "code",
      "metadata": {
        "id": "bEHx9qYIE1vb"
      },
      "source": [
        ""
      ],
      "execution_count": 7,
      "outputs": []
    },
    {
      "cell_type": "code",
      "metadata": {
        "id": "Exaciin7E1vd"
      },
      "source": [
        "\n"
      ],
      "execution_count": 7,
      "outputs": []
    }
  ]
}